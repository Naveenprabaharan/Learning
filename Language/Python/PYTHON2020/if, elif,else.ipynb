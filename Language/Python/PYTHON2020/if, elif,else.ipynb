{
 "cells": [
  {
   "cell_type": "code",
   "execution_count": 13,
   "metadata": {},
   "outputs": [
    {
     "name": "stdout",
     "output_type": "stream",
     "text": [
      "i don't know much\n"
     ]
    }
   ],
   "source": [
    "location = 'coffe shop'\n",
    "\n",
    "if location == 'bank':\n",
    "    print(\"Hi you'r in Bank\")\n",
    "elif location =='hotel':\n",
    "    print(\"Hi, you'r in Hotel!\")\n",
    "else :\n",
    "    print(\"i don't know much\")\n"
   ]
  }
 ],
 "metadata": {
  "kernelspec": {
   "display_name": "Python 3",
   "language": "python",
   "name": "python3"
  },
  "language_info": {
   "codemirror_mode": {
    "name": "ipython",
    "version": 3
   },
   "file_extension": ".py",
   "mimetype": "text/x-python",
   "name": "python",
   "nbconvert_exporter": "python",
   "pygments_lexer": "ipython3",
   "version": "3.7.6"
  }
 },
 "nbformat": 4,
 "nbformat_minor": 4
}
