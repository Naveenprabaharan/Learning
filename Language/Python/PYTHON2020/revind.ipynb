{
 "cells": [
  {
   "cell_type": "code",
   "execution_count": 31,
   "metadata": {},
   "outputs": [],
   "source": [
    "### repetition syntax"
   ]
  },
  {
   "cell_type": "code",
   "execution_count": 32,
   "metadata": {},
   "outputs": [],
   "source": [
    "import re\n",
    "\n",
    "def muti_refinder(patterns,pharse):\n",
    "    \"\"\"\"\n",
    "    take the list and checking for mataches\n",
    "    \"\"\"\n",
    "    for pattern in patterns:\n",
    "        print('searching for pharse using recheck : %r'%(pattern))\n",
    "        print(re.findall(pattern,pharse))\n",
    "        print('\\n')"
   ]
  },
  {
   "cell_type": "code",
   "execution_count": 33,
   "metadata": {},
   "outputs": [],
   "source": [
    "test_pharse='sd.....sd.....sddddd.sdd....sds.s......ss....ssdsdsdsdsdsd.....'\n",
    "test_patteren=['sd*',  ##s followed by zero or more d's\n",
    "               'sd+',   ## s followed by one or more d's\n",
    "                'sd?',  ## s followed by zero or one d\n",
    "               'sd{3}', ## s followed by 3 d's\n",
    "               'sd{2,3}',  ##s followed by min 2 max 3 d's\n",
    "               ]"
   ]
  },
  {
   "cell_type": "code",
   "execution_count": 35,
   "metadata": {
    "scrolled": true
   },
   "outputs": [
    {
     "name": "stdout",
     "output_type": "stream",
     "text": [
      "searching for pharse using recheck : 'sd*'\n",
      "['sd', 'sd', 'sddddd', 'sdd', 'sd', 's', 's', 's', 's', 's', 'sd', 'sd', 'sd', 'sd', 'sd', 'sd']\n",
      "\n",
      "\n",
      "searching for pharse using recheck : 'sd+'\n",
      "['sd', 'sd', 'sddddd', 'sdd', 'sd', 'sd', 'sd', 'sd', 'sd', 'sd', 'sd']\n",
      "\n",
      "\n",
      "searching for pharse using recheck : 'sd?'\n",
      "['sd', 'sd', 'sd', 'sd', 'sd', 's', 's', 's', 's', 's', 'sd', 'sd', 'sd', 'sd', 'sd', 'sd']\n",
      "\n",
      "\n",
      "searching for pharse using recheck : 'sd{3}'\n",
      "['sddd']\n",
      "\n",
      "\n",
      "searching for pharse using recheck : 'sd{2,3}'\n",
      "['sddd', 'sdd']\n",
      "\n",
      "\n"
     ]
    }
   ],
   "source": [
    "muti_refinder(test_patteren,test_pharse)"
   ]
  },
  {
   "cell_type": "code",
   "execution_count": 39,
   "metadata": {},
   "outputs": [
    {
     "name": "stdout",
     "output_type": "stream",
     "text": [
      "searching for pharse using recheck : '[sd]'\n",
      "['s', 'd', 's', 'd', 's', 'd', 'd', 'd', 'd', 'd', 's', 'd', 'd', 's', 'd', 's', 's', 's', 's', 's', 's', 'd', 's', 'd', 's', 'd', 's', 'd', 's', 'd', 's', 'd']\n",
      "\n",
      "\n",
      "searching for pharse using recheck : 's[sd]'\n",
      "['sd', 'sd', 'sd', 'sd', 'sd', 'ss', 'ss', 'sd', 'sd', 'sd', 'sd', 'sd']\n",
      "\n",
      "\n",
      "searching for pharse using recheck : 's[sd]+'\n",
      "['sd', 'sd', 'sddddd', 'sdd', 'sds', 'ss', 'ssdsdsdsdsdsd']\n",
      "\n",
      "\n"
     ]
    }
   ],
   "source": [
    "test_pharse='sd.....sd.....sddddd.sdd....sds.s......ss....ssdsdsdsdsdsd.....'\n",
    "\n",
    "test_patterns=['[sd]' , ##pharse has s or d\n",
    "               's[sd]', ##s followed by s or d\n",
    "               's[sd]+'  ## s followed by one or more s or d\n",
    "              ]\n",
    "\n",
    "muti_refinder(test_patterns,test_pharse)"
   ]
  },
  {
   "cell_type": "code",
   "execution_count": null,
   "metadata": {},
   "outputs": [],
   "source": []
  },
  {
   "cell_type": "code",
   "execution_count": null,
   "metadata": {},
   "outputs": [],
   "source": []
  },
  {
   "cell_type": "code",
   "execution_count": null,
   "metadata": {},
   "outputs": [],
   "source": []
  },
  {
   "cell_type": "code",
   "execution_count": null,
   "metadata": {},
   "outputs": [],
   "source": [
    "##pucntiuation "
   ]
  },
  {
   "cell_type": "code",
   "execution_count": 45,
   "metadata": {},
   "outputs": [
    {
     "name": "stdout",
     "output_type": "stream",
     "text": [
      "['this', 'is', 'a', 'string', 'and', 'it', 'will', 'hide', 'and', 'you', 'will', 'see', 'only', 'thw', 'words']\n"
     ]
    }
   ],
   "source": [
    "test_pharse='this is a  string! and it will hide & and %. you will see only thw words'\n",
    "\n",
    "print(re.findall('[^!$%& ,.]+',test_pharse))"
   ]
  },
  {
   "cell_type": "code",
   "execution_count": null,
   "metadata": {},
   "outputs": [],
   "source": []
  },
  {
   "cell_type": "code",
   "execution_count": null,
   "metadata": {},
   "outputs": [],
   "source": [
    "##charactor range"
   ]
  },
  {
   "cell_type": "code",
   "execution_count": null,
   "metadata": {},
   "outputs": [],
   "source": []
  },
  {
   "cell_type": "code",
   "execution_count": 51,
   "metadata": {},
   "outputs": [
    {
     "name": "stdout",
     "output_type": "stream",
     "text": [
      "searching for pharse using recheck : '[a-z]+'\n",
      "['his', 'is', 'a', 'st', 'line', 'for', 'checking', 'alphabet', 'etters', 'ets', 'check']\n",
      "\n",
      "\n",
      "searching for pharse using recheck : '[A-Z]+'\n",
      "['T', 'TE', 'L', 'L']\n",
      "\n",
      "\n",
      "searching for pharse using recheck : '[a-zA-Z]+'\n",
      "['This', 'is', 'a', 'TEst', 'line', 'for', 'checking', 'alphabet', 'Letters', 'Lets', 'check']\n",
      "\n",
      "\n",
      "searching for pharse using recheck : '[A-Z][a-z]+'\n",
      "['This', 'Est', 'Letters', 'Lets']\n",
      "\n",
      "\n"
     ]
    }
   ],
   "source": [
    "test_pharse='This is a TEst line for checking alphabet Letters,Lets check'\n",
    "\n",
    "patterens=['[a-z]+',  ##chacking foe small case letter\n",
    "           '[A-Z]+',  ## checking for upper case letter\n",
    "           '[a-zA-Z]+',## checking for small letter upper case letter\n",
    "           '[A-Z][a-z]+'## checking for start with upper after lower case\n",
    "          ]\n",
    "\n",
    "\n",
    "muti_refinder(patterens,test_pharse)\n",
    "           \n",
    "           "
   ]
  },
  {
   "cell_type": "code",
   "execution_count": null,
   "metadata": {},
   "outputs": [],
   "source": []
  },
  {
   "cell_type": "code",
   "execution_count": 59,
   "metadata": {},
   "outputs": [],
   "source": [
    "##Escape charactor"
   ]
  },
  {
   "cell_type": "code",
   "execution_count": 74,
   "metadata": {},
   "outputs": [],
   "source": [
    "test_pharse='this is a sentense. it has 1233 number and symbol# hastag'\n",
    "\n",
    "patterens=[r'\\d+',r'\\D+',r'\\w+',r'\\W+',r'\\s+',r'\\S+']"
   ]
  },
  {
   "cell_type": "code",
   "execution_count": 75,
   "metadata": {},
   "outputs": [
    {
     "name": "stdout",
     "output_type": "stream",
     "text": [
      "searching for pharse using recheck : '\\\\d+'\n",
      "['1233']\n",
      "\n",
      "\n",
      "searching for pharse using recheck : '\\\\D+'\n",
      "['this is a sentense. it has ', ' number and symbol# hastag']\n",
      "\n",
      "\n",
      "searching for pharse using recheck : '\\\\w+'\n",
      "['this', 'is', 'a', 'sentense', 'it', 'has', '1233', 'number', 'and', 'symbol', 'hastag']\n",
      "\n",
      "\n",
      "searching for pharse using recheck : '\\\\W+'\n",
      "[' ', ' ', ' ', '. ', ' ', ' ', ' ', ' ', ' ', '# ']\n",
      "\n",
      "\n",
      "searching for pharse using recheck : '\\\\s+'\n",
      "[' ', ' ', ' ', ' ', ' ', ' ', ' ', ' ', ' ', ' ']\n",
      "\n",
      "\n",
      "searching for pharse using recheck : '\\\\S+'\n",
      "['this', 'is', 'a', 'sentense.', 'it', 'has', '1233', 'number', 'and', 'symbol#', 'hastag']\n",
      "\n",
      "\n"
     ]
    }
   ],
   "source": [
    "muti_refinder(patterens,test_pharse)"
   ]
  },
  {
   "cell_type": "code",
   "execution_count": null,
   "metadata": {},
   "outputs": [],
   "source": []
  },
  {
   "cell_type": "code",
   "execution_count": 87,
   "metadata": {},
   "outputs": [],
   "source": [
    "##string IO"
   ]
  },
  {
   "cell_type": "code",
   "execution_count": 97,
   "metadata": {},
   "outputs": [],
   "source": [
    "import io"
   ]
  },
  {
   "cell_type": "code",
   "execution_count": 98,
   "metadata": {},
   "outputs": [],
   "source": [
    "message='this is first line.'\n"
   ]
  },
  {
   "cell_type": "code",
   "execution_count": 99,
   "metadata": {},
   "outputs": [],
   "source": [
    "f=io.StringIO(message)"
   ]
  },
  {
   "cell_type": "code",
   "execution_count": 100,
   "metadata": {},
   "outputs": [
    {
     "data": {
      "text/plain": [
       "'this is first line.'"
      ]
     },
     "execution_count": 100,
     "metadata": {},
     "output_type": "execute_result"
    }
   ],
   "source": [
    "f.read()"
   ]
  },
  {
   "cell_type": "code",
   "execution_count": 101,
   "metadata": {},
   "outputs": [
    {
     "data": {
      "text/plain": [
       "21"
      ]
     },
     "execution_count": 101,
     "metadata": {},
     "output_type": "execute_result"
    }
   ],
   "source": [
    "f.write(' this is secound line')"
   ]
  },
  {
   "cell_type": "code",
   "execution_count": 102,
   "metadata": {},
   "outputs": [
    {
     "data": {
      "text/plain": [
       "0"
      ]
     },
     "execution_count": 102,
     "metadata": {},
     "output_type": "execute_result"
    }
   ],
   "source": [
    "f.seek(0)"
   ]
  },
  {
   "cell_type": "code",
   "execution_count": 104,
   "metadata": {},
   "outputs": [
    {
     "data": {
      "text/plain": [
       "''"
      ]
     },
     "execution_count": 104,
     "metadata": {},
     "output_type": "execute_result"
    }
   ],
   "source": [
    "f.read()"
   ]
  },
  {
   "cell_type": "code",
   "execution_count": 106,
   "metadata": {},
   "outputs": [],
   "source": [
    "f.close()"
   ]
  }
 ],
 "metadata": {
  "kernelspec": {
   "display_name": "Python 3",
   "language": "python",
   "name": "python3"
  },
  "language_info": {
   "codemirror_mode": {
    "name": "ipython",
    "version": 3
   },
   "file_extension": ".py",
   "mimetype": "text/x-python",
   "name": "python",
   "nbconvert_exporter": "python",
   "pygments_lexer": "ipython3",
   "version": "3.7.6"
  }
 },
 "nbformat": 4,
 "nbformat_minor": 4
}
