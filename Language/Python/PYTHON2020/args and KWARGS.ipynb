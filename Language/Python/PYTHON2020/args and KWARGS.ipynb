{
 "cells": [
  {
   "cell_type": "code",
   "execution_count": 3,
   "metadata": {},
   "outputs": [],
   "source": [
    "def myfunc(*args):\n",
    "    print(sum(args))\n",
    "    "
   ]
  },
  {
   "cell_type": "code",
   "execution_count": 5,
   "metadata": {},
   "outputs": [
    {
     "name": "stdout",
     "output_type": "stream",
     "text": [
      "150\n"
     ]
    }
   ],
   "source": [
    "myfunc(10,20,30,40,50)"
   ]
  },
  {
   "cell_type": "code",
   "execution_count": 7,
   "metadata": {},
   "outputs": [],
   "source": [
    "def myfunc(**kwargs):\n",
    "    if 'colour' in kwargs:\n",
    "        print('i would like to take {} colour saree'.format(kwargs['colour']))\n",
    "    elif 'tree' in kwargs:\n",
    "        print('i love {} trees more then anything'.format(kwargs['tree']))\n",
    "    else:\n",
    "        print('i dont know that much')"
   ]
  },
  {
   "cell_type": "code",
   "execution_count": 12,
   "metadata": {},
   "outputs": [
    {
     "name": "stdout",
     "output_type": "stream",
     "text": [
      "i love banana trees more then anything\n"
     ]
    }
   ],
   "source": [
    "myfunc(tree='banana',saree='ponam',colsssour='reose')"
   ]
  },
  {
   "cell_type": "code",
   "execution_count": 13,
   "metadata": {},
   "outputs": [],
   "source": [
    "def myfunc(*args,**kwargs):\n",
    "    if 'tree' in kwargs:\n",
    "        print('i would like to take {} {}'.format(args[0],kwargs['tree']))\n",
    "    else:\n",
    "         print('i dont know that much')"
   ]
  },
  {
   "cell_type": "code",
   "execution_count": 14,
   "metadata": {},
   "outputs": [
    {
     "name": "stdout",
     "output_type": "stream",
     "text": [
      "i would like to take 10 banana\n"
     ]
    }
   ],
   "source": [
    "myfunc(10,20,30,40,50,tree='banana',saree='ponam',colsssour='reose')"
   ]
  }
 ],
 "metadata": {
  "kernelspec": {
   "display_name": "Python 3",
   "language": "python",
   "name": "python3"
  },
  "language_info": {
   "codemirror_mode": {
    "name": "ipython",
    "version": 3
   },
   "file_extension": ".py",
   "mimetype": "text/x-python",
   "name": "python",
   "nbconvert_exporter": "python",
   "pygments_lexer": "ipython3",
   "version": "3.7.6"
  }
 },
 "nbformat": 4,
 "nbformat_minor": 4
}
