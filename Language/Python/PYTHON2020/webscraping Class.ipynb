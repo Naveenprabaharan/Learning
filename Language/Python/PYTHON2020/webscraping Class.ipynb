{
 "cells": [
  {
   "cell_type": "code",
   "execution_count": 2,
   "metadata": {},
   "outputs": [],
   "source": [
    "import requests"
   ]
  },
  {
   "cell_type": "code",
   "execution_count": 5,
   "metadata": {},
   "outputs": [],
   "source": [
    "res= requests.get('https://en.wikipedia.org/wiki/Mahatma_Gandhi')"
   ]
  },
  {
   "cell_type": "code",
   "execution_count": 9,
   "metadata": {},
   "outputs": [],
   "source": [
    "import bs4"
   ]
  },
  {
   "cell_type": "code",
   "execution_count": 27,
   "metadata": {},
   "outputs": [],
   "source": [
    "soup= bs4.BeautifulSoup(res.text,'lxml')"
   ]
  },
  {
   "cell_type": "code",
   "execution_count": 55,
   "metadata": {},
   "outputs": [],
   "source": [
    "#soup"
   ]
  },
  {
   "cell_type": "code",
   "execution_count": 49,
   "metadata": {
    "scrolled": false
   },
   "outputs": [],
   "source": [
    "name=soup.select('.toctext')[0]"
   ]
  },
  {
   "cell_type": "code",
   "execution_count": 52,
   "metadata": {},
   "outputs": [],
   "source": [
    "first_name=soup.select('.toctext')"
   ]
  },
  {
   "cell_type": "code",
   "execution_count": 53,
   "metadata": {},
   "outputs": [
    {
     "data": {
      "text/plain": [
       "[<span class=\"toctext\">Biography</span>,\n",
       " <span class=\"toctext\">Early life and background</span>,\n",
       " <span class=\"toctext\">Three years in London</span>,\n",
       " <span class=\"toctext\">Student of law</span>,\n",
       " <span class=\"toctext\">Vegetarianism and committee work</span>,\n",
       " <span class=\"toctext\">Called to the bar</span>,\n",
       " <span class=\"toctext\">Civil rights activist in South Africa (1893–1914)</span>,\n",
       " <span class=\"toctext\">Europeans, Indians and Africans</span>,\n",
       " <span class=\"toctext\">Struggle for Indian independence (1915–1947)</span>,\n",
       " <span class=\"toctext\">Role in World War I</span>,\n",
       " <span class=\"toctext\">Champaran agitations</span>,\n",
       " <span class=\"toctext\">Kheda agitations</span>,\n",
       " <span class=\"toctext\">Khilafat movement</span>,\n",
       " <span class=\"toctext\">Non-co-operation</span>,\n",
       " <span class=\"toctext\">Salt Satyagraha (Salt March)</span>,\n",
       " <span class=\"toctext\">Gandhi as folk hero</span>,\n",
       " <span class=\"toctext\">Negotiations</span>,\n",
       " <span class=\"toctext\">Round Table Conferences</span>,\n",
       " <span class=\"toctext\">Congress politics</span>,\n",
       " <span class=\"toctext\">World War II and <i>Quit India movement</i></span>,\n",
       " <span class=\"toctext\">Partition and independence</span>,\n",
       " <span class=\"toctext\">Death</span>,\n",
       " <span class=\"toctext\">Funeral and memorials</span>,\n",
       " <span class=\"toctext\">Principles, practices, and beliefs</span>,\n",
       " <span class=\"toctext\">Influences</span>,\n",
       " <span class=\"toctext\">Leo Tolstoy</span>,\n",
       " <span class=\"toctext\">Shrimad Rajchandra</span>,\n",
       " <span class=\"toctext\">Religious texts</span>,\n",
       " <span class=\"toctext\">Sufism</span>,\n",
       " <span class=\"toctext\">On wars and nonviolence</span>,\n",
       " <span class=\"toctext\">Support for wars</span>,\n",
       " <span class=\"toctext\">Truth and Satyagraha</span>,\n",
       " <span class=\"toctext\">Nonviolence</span>,\n",
       " <span class=\"toctext\">On inter-religious relations</span>,\n",
       " <span class=\"toctext\">Buddhists, Jains and Sikhs</span>,\n",
       " <span class=\"toctext\">Muslims</span>,\n",
       " <span class=\"toctext\">Christians</span>,\n",
       " <span class=\"toctext\">Jews</span>,\n",
       " <span class=\"toctext\">On life, society and other application of his ideas</span>,\n",
       " <span class=\"toctext\">Vegetarianism, food, and animals</span>,\n",
       " <span class=\"toctext\">Fasting</span>,\n",
       " <span class=\"toctext\">Women</span>,\n",
       " <span class=\"toctext\">Brahmacharya: abstinence from sex and food</span>,\n",
       " <span class=\"toctext\">Untouchability and castes</span>,\n",
       " <span class=\"toctext\">Nai Talim, basic education</span>,\n",
       " <span class=\"toctext\">Swaraj, self-rule</span>,\n",
       " <span class=\"toctext\">Hindu nationalism and revivalism</span>,\n",
       " <span class=\"toctext\">Gandhian economics</span>,\n",
       " <span class=\"toctext\">Gandhism</span>,\n",
       " <span class=\"toctext\">Literary works</span>,\n",
       " <span class=\"toctext\">Legacy and depictions in popular culture</span>,\n",
       " <span class=\"toctext\">Followers and international influence</span>,\n",
       " <span class=\"toctext\">Global days that celebrate Gandhi</span>,\n",
       " <span class=\"toctext\">Awards</span>,\n",
       " <span class=\"toctext\">Father of the Nation</span>,\n",
       " <span class=\"toctext\">Film, theatre and literature</span>,\n",
       " <span class=\"toctext\">Current impact within India</span>,\n",
       " <span class=\"toctext\">Descendants</span>,\n",
       " <span class=\"toctext\">See also</span>,\n",
       " <span class=\"toctext\">References</span>,\n",
       " <span class=\"toctext\">Bibliography</span>,\n",
       " <span class=\"toctext\">Books</span>,\n",
       " <span class=\"toctext\">Primary sources</span>,\n",
       " <span class=\"toctext\">External links</span>]"
      ]
     },
     "execution_count": 53,
     "metadata": {},
     "output_type": "execute_result"
    }
   ],
   "source": [
    "first_name\n"
   ]
  },
  {
   "cell_type": "code",
   "execution_count": 46,
   "metadata": {},
   "outputs": [
    {
     "data": {
      "text/plain": [
       "'Biography'"
      ]
     },
     "execution_count": 46,
     "metadata": {},
     "output_type": "execute_result"
    }
   ],
   "source": [
    "name.get_text()"
   ]
  },
  {
   "cell_type": "code",
   "execution_count": 47,
   "metadata": {},
   "outputs": [
    {
     "name": "stdout",
     "output_type": "stream",
     "text": [
      "Biography\n",
      "Early life and background\n",
      "Three years in London\n",
      "Student of law\n",
      "Vegetarianism and committee work\n",
      "Called to the bar\n",
      "Civil rights activist in South Africa (1893–1914)\n",
      "Europeans, Indians and Africans\n",
      "Struggle for Indian independence (1915–1947)\n",
      "Role in World War I\n",
      "Champaran agitations\n",
      "Kheda agitations\n",
      "Khilafat movement\n",
      "Non-co-operation\n",
      "Salt Satyagraha (Salt March)\n",
      "Gandhi as folk hero\n",
      "Negotiations\n",
      "Round Table Conferences\n",
      "Congress politics\n",
      "World War II and Quit India movement\n",
      "Partition and independence\n",
      "Death\n",
      "Funeral and memorials\n",
      "Principles, practices, and beliefs\n",
      "Influences\n",
      "Leo Tolstoy\n",
      "Shrimad Rajchandra\n",
      "Religious texts\n",
      "Sufism\n",
      "On wars and nonviolence\n",
      "Support for wars\n",
      "Truth and Satyagraha\n",
      "Nonviolence\n",
      "On inter-religious relations\n",
      "Buddhists, Jains and Sikhs\n",
      "Muslims\n",
      "Christians\n",
      "Jews\n",
      "On life, society and other application of his ideas\n",
      "Vegetarianism, food, and animals\n",
      "Fasting\n",
      "Women\n",
      "Brahmacharya: abstinence from sex and food\n",
      "Untouchability and castes\n",
      "Nai Talim, basic education\n",
      "Swaraj, self-rule\n",
      "Hindu nationalism and revivalism\n",
      "Gandhian economics\n",
      "Gandhism\n",
      "Literary works\n",
      "Legacy and depictions in popular culture\n",
      "Followers and international influence\n",
      "Global days that celebrate Gandhi\n",
      "Awards\n",
      "Father of the Nation\n",
      "Film, theatre and literature\n",
      "Current impact within India\n",
      "Descendants\n",
      "See also\n",
      "References\n",
      "Bibliography\n",
      "Books\n",
      "Primary sources\n",
      "External links\n"
     ]
    }
   ],
   "source": [
    "for title in soup.select('.toctext'):\n",
    "    print(title.text)"
   ]
  },
  {
   "cell_type": "code",
   "execution_count": null,
   "metadata": {},
   "outputs": [],
   "source": []
  },
  {
   "cell_type": "code",
   "execution_count": null,
   "metadata": {},
   "outputs": [],
   "source": []
  }
 ],
 "metadata": {
  "kernelspec": {
   "display_name": "Python 3",
   "language": "python",
   "name": "python3"
  },
  "language_info": {
   "codemirror_mode": {
    "name": "ipython",
    "version": 3
   },
   "file_extension": ".py",
   "mimetype": "text/x-python",
   "name": "python",
   "nbconvert_exporter": "python",
   "pygments_lexer": "ipython3",
   "version": "3.7.6"
  }
 },
 "nbformat": 4,
 "nbformat_minor": 4
}
