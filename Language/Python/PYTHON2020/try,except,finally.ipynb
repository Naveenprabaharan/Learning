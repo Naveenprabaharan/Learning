{
 "cells": [
  {
   "cell_type": "code",
   "execution_count": 3,
   "metadata": {},
   "outputs": [
    {
     "name": "stdout",
     "output_type": "stream",
     "text": [
      "all is set...!!!\n",
      "20\n"
     ]
    }
   ],
   "source": [
    "try:\n",
    "    result=10+10\n",
    "except:\n",
    "    print('you arent enter the crt value')\n",
    "    \n",
    "finally:\n",
    "    print('all is set...!!!')\n",
    "    print(result)"
   ]
  },
  {
   "cell_type": "code",
   "execution_count": null,
   "metadata": {},
   "outputs": [
    {
     "name": "stdout",
     "output_type": "stream",
     "text": [
      "provide a no for detailes: 6\n",
      "all set there we go!!!\n",
      "19\n",
      "provide a no for detailes: q\n",
      "you have done something wrong!\n",
      "all set there we go!!!\n",
      "19\n",
      "provide a no for detailes: 54\n",
      "all set there we go!!!\n",
      "19\n",
      "provide a no for detailes: 2\n"
     ]
    }
   ],
   "source": [
    "while True:\n",
    "    try:\n",
    "        result= 100-81\n",
    "        number=int(input('provide a no for detailes: '))\n",
    "    except OSError :\n",
    "        print('you have done some typo!!!')\n",
    "    except:\n",
    "        print('you have done something wrong!')\n",
    "\n",
    "    finally:\n",
    "        print('all set there we go!!!')\n",
    "        print(result)"
   ]
  },
  {
   "cell_type": "code",
   "execution_count": null,
   "metadata": {},
   "outputs": [],
   "source": []
  }
 ],
 "metadata": {
  "kernelspec": {
   "display_name": "Python 3",
   "language": "python",
   "name": "python3"
  },
  "language_info": {
   "codemirror_mode": {
    "name": "ipython",
    "version": 3
   },
   "file_extension": ".py",
   "mimetype": "text/x-python",
   "name": "python",
   "nbconvert_exporter": "python",
   "pygments_lexer": "ipython3",
   "version": "3.7.6"
  }
 },
 "nbformat": 4,
 "nbformat_minor": 4
}
